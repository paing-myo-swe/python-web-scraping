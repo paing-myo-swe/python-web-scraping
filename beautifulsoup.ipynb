{
 "cells": [
  {
   "cell_type": "markdown",
   "metadata": {},
   "source": [
    "# Install the beautifulsoup library for parsing HTML content\n",
    "\n",
    "Beautiful Soup, this Python library parses HTML content and HTML data into a tree-like structure, making it easy to navigate and extract specific information."
   ]
  },
  {
   "cell_type": "code",
   "execution_count": null,
   "metadata": {
    "vscode": {
     "languageId": "bat"
    }
   },
   "outputs": [],
   "source": [
    "! pip install beautifulsoup4"
   ]
  },
  {
   "cell_type": "markdown",
   "metadata": {},
   "source": [
    "# Extracting data with Beautiful Soup"
   ]
  },
  {
   "cell_type": "code",
   "execution_count": 4,
   "metadata": {},
   "outputs": [
    {
     "name": "stdout",
     "output_type": "stream",
     "text": [
      "TIOBE Index for January 2025\n"
     ]
    }
   ],
   "source": [
    "import requests\n",
    "from bs4 import BeautifulSoup\n",
    "\n",
    "# Send a request to the website\n",
    "url = 'https://www.tiobe.com/tiobe-index/'\n",
    "response = requests.get(url)\n",
    "\n",
    "# Parse the HTML content using BeautifulSoup\n",
    "soup = BeautifulSoup(response.content, 'html.parser')\n",
    "\n",
    "# Find the main headlines h1 tag\n",
    "headlines = soup.find_all('h1')\n",
    "\n",
    "# Print the headlines\n",
    "for headline in headlines:\n",
    "    print(headline.text)"
   ]
  },
  {
   "cell_type": "code",
   "execution_count": 5,
   "metadata": {},
   "outputs": [
    {
     "name": "stdout",
     "output_type": "stream",
     "text": [
      "Other programming languages\n",
      "The Next 50 Programming Languages\n",
      "This Month's Changes in the Index\n",
      "Very Long Term History\n",
      "Programming Language Hall of Fame\n",
      "Bugs & Change Requests\n",
      "Get your own proof of concept\n"
     ]
    }
   ],
   "source": [
    "# Find the main headlines h2 tag\n",
    "headlines = soup.find_all('h2')\n",
    "\n",
    "# Print the headlines\n",
    "for headline in headlines:\n",
    "    print(headline.text)"
   ]
  },
  {
   "cell_type": "code",
   "execution_count": 6,
   "metadata": {},
   "outputs": [
    {
     "name": "stdout",
     "output_type": "stream",
     "text": [
      "<table class=\"table table-striped table-top20\" id=\"top20\">\n",
      "<thead><tr>\n",
      "<th style=\"width: 15%\">Jan 2025</th>\n",
      "<th style=\"width: 15%\">Jan 2024</th>\n",
      "<th style=\"width: 15%\" title=\"Difference compared to last year\">Change</th>\n",
      "<th colspan=\"2\" style=\"width: 25%\">Programming Language</th>\n",
      "<th style=\"width: 15%\">Ratings</th>\n",
      "<th style=\"width: 15%\" title=\"Difference compared to last year\">Change</th>\n",
      "</tr></thead>\n",
      "<tbody>\n",
      "<tr><td>1</td><td>1</td><td></td><td class=\"td-top20\"><img alt=\"Python page\" src=\"/wp-content/themes/tiobe/tiobe-index/images/Python.png\" style=\"vertical-align:middle\"/></td><td>Python</td><td>23.28%</td><td>+9.32%</td></tr><tr><td>2</td><td>3</td><td><img alt=\"change\" src=\"/wp-content/themes/tiobe/tpci/images/up.png\"/></td><td class=\"td-top20\"><img alt=\"C++ page\" src=\"/wp-content/themes/tiobe/tiobe-index/images/C__.png\" style=\"vertical-align:middle\"/></td><td>C++</td><td>10.29%</td><td>+0.33%</td></tr><tr><td>3</td><td>4</td><td><img alt=\"change\" src=\"/wp-content/themes/tiobe/tpci/images/up.png\"/></td><td class=\"td-top20\"><img alt=\"Java page\" src=\"/wp-content/themes/tiobe/tiobe-index/images/Java.png\" style=\"vertical-align:middle\"/></td><td>Java</td><td>10.15%</td><td>+2.28%</td></tr><tr><td>4</td><td>2</td><td><img alt=\"change\" src=\"/wp-content/themes/tiobe/tpci/images/down.png\"/></td><td class=\"td-top20\"><img alt=\"C page\" src=\"/wp-content/themes/tiobe/tiobe-index/images/C.png\" style=\"vertical-align:middle\"/></td><td>C</td><td>8.86%</td><td>-2.59%</td></tr><tr><td>5</td><td>5</td><td></td><td class=\"td-top20\"><img alt=\"C# page\" src=\"/wp-content/themes/tiobe/tiobe-index/images/C_.png\" style=\"vertical-align:middle\"/></td><td>C#</td><td>4.45%</td><td>-2.71%</td></tr><tr><td>6</td><td>6</td><td></td><td class=\"td-top20\"><img alt=\"JavaScript page\" src=\"/wp-content/themes/tiobe/tiobe-index/images/JavaScript.png\" style=\"vertical-align:middle\"/></td><td>JavaScript</td><td>4.20%</td><td>+1.43%</td></tr><tr><td>7</td><td>11</td><td><img alt=\"change\" src=\"/wp-content/themes/tiobe/tpci/images/upup.png\"/></td><td class=\"td-top20\"><img alt=\"Go page\" src=\"/wp-content/themes/tiobe/tiobe-index/images/Go.png\" style=\"vertical-align:middle\"/></td><td>Go</td><td>2.61%</td><td>+1.24%</td></tr><tr><td>8</td><td>9</td><td><img alt=\"change\" src=\"/wp-content/themes/tiobe/tpci/images/up.png\"/></td><td class=\"td-top20\"><img alt=\"SQL page\" src=\"/wp-content/themes/tiobe/tiobe-index/images/SQL.png\" style=\"vertical-align:middle\"/></td><td>SQL</td><td>2.41%</td><td>+0.95%</td></tr><tr><td>9</td><td>8</td><td><img alt=\"change\" src=\"/wp-content/themes/tiobe/tpci/images/down.png\"/></td><td class=\"td-top20\"><img alt=\"Visual Basic page\" src=\"/wp-content/themes/tiobe/tiobe-index/images/Visual_Basic.png\" style=\"vertical-align:middle\"/></td><td>Visual Basic</td><td>2.37%</td><td>+0.77%</td></tr><tr><td>10</td><td>12</td><td><img alt=\"change\" src=\"/wp-content/themes/tiobe/tpci/images/up.png\"/></td><td class=\"td-top20\"><img alt=\"Fortran page\" src=\"/wp-content/themes/tiobe/tiobe-index/images/Fortran.png\" style=\"vertical-align:middle\"/></td><td>Fortran</td><td>2.04%</td><td>+0.94%</td></tr><tr><td>11</td><td>13</td><td><img alt=\"change\" src=\"/wp-content/themes/tiobe/tpci/images/up.png\"/></td><td class=\"td-top20\"><img alt=\"Delphi/Object Pascal page\" src=\"/wp-content/themes/tiobe/tiobe-index/images/Delphi_Object_Pascal.png\" style=\"vertical-align:middle\"/></td><td>Delphi/Object Pascal</td><td>1.79%</td><td>+0.70%</td></tr><tr><td>12</td><td>10</td><td><img alt=\"change\" src=\"/wp-content/themes/tiobe/tpci/images/down.png\"/></td><td class=\"td-top20\"><img alt=\"Scratch page\" src=\"/wp-content/themes/tiobe/tiobe-index/images/Scratch.png\" style=\"vertical-align:middle\"/></td><td>Scratch</td><td>1.55%</td><td>+0.11%</td></tr><tr><td>13</td><td>7</td><td><img alt=\"change\" src=\"/wp-content/themes/tiobe/tpci/images/downdown.png\"/></td><td class=\"td-top20\"><img alt=\"PHP page\" src=\"/wp-content/themes/tiobe/tiobe-index/images/PHP.png\" style=\"vertical-align:middle\"/></td><td>PHP</td><td>1.38%</td><td>-0.41%</td></tr><tr><td>14</td><td>19</td><td><img alt=\"change\" src=\"/wp-content/themes/tiobe/tpci/images/upup.png\"/></td><td class=\"td-top20\"><img alt=\"Rust page\" src=\"/wp-content/themes/tiobe/tiobe-index/images/Rust.png\" style=\"vertical-align:middle\"/></td><td>Rust</td><td>1.16%</td><td>+0.37%</td></tr><tr><td>15</td><td>14</td><td><img alt=\"change\" src=\"/wp-content/themes/tiobe/tpci/images/down.png\"/></td><td class=\"td-top20\"><img alt=\"MATLAB page\" src=\"/wp-content/themes/tiobe/tiobe-index/images/MATLAB.png\" style=\"vertical-align:middle\"/></td><td>MATLAB</td><td>1.07%</td><td>+0.09%</td></tr><tr><td>16</td><td>18</td><td><img alt=\"change\" src=\"/wp-content/themes/tiobe/tpci/images/up.png\"/></td><td class=\"td-top20\"><img alt=\"Ruby page\" src=\"/wp-content/themes/tiobe/tiobe-index/images/Ruby.png\" style=\"vertical-align:middle\"/></td><td>Ruby</td><td>1.06%</td><td>+0.25%</td></tr><tr><td>17</td><td>15</td><td><img alt=\"change\" src=\"/wp-content/themes/tiobe/tpci/images/down.png\"/></td><td class=\"td-top20\"><img alt=\"Assembly language page\" src=\"/wp-content/themes/tiobe/tiobe-index/images/Assembly_language.png\" style=\"vertical-align:middle\"/></td><td>Assembly language</td><td>1.01%</td><td>+0.10%</td></tr><tr><td>18</td><td>23</td><td><img alt=\"change\" src=\"/wp-content/themes/tiobe/tpci/images/upup.png\"/></td><td class=\"td-top20\"><img alt=\"R page\" src=\"/wp-content/themes/tiobe/tiobe-index/images/R.png\" style=\"vertical-align:middle\"/></td><td>R</td><td>1.00%</td><td>+0.27%</td></tr><tr><td>19</td><td>16</td><td><img alt=\"change\" src=\"/wp-content/themes/tiobe/tpci/images/down.png\"/></td><td class=\"td-top20\"><img alt=\"Swift page\" src=\"/wp-content/themes/tiobe/tiobe-index/images/Swift.png\" style=\"vertical-align:middle\"/></td><td>Swift</td><td>0.99%</td><td>+0.10%</td></tr><tr><td>20</td><td>20</td><td></td><td class=\"td-top20\"><img alt=\"COBOL page\" src=\"/wp-content/themes/tiobe/tiobe-index/images/COBOL.png\" style=\"vertical-align:middle\"/></td><td>COBOL</td><td>0.95%</td><td>+0.17%</td></tr>\n",
      "</tbody>\n",
      "</table>\n",
      "<table class=\"table table-striped\" id=\"otherPL\">\n",
      "<thead><tr><th>Position</th><th>Programming Language</th><th>Ratings</th></tr></thead>\n",
      "<tbody>\n",
      "<tr><td>21</td><td>Prolog</td><td>0.92%</td></tr><tr><td>22</td><td>Classic Visual Basic</td><td>0.89%</td></tr><tr><td>23</td><td>SAS</td><td>0.79%</td></tr><tr><td>24</td><td>Lisp</td><td>0.75%</td></tr><tr><td>25</td><td>Kotlin</td><td>0.74%</td></tr><tr><td>26</td><td>Ada</td><td>0.65%</td></tr><tr><td>27</td><td>Lua</td><td>0.59%</td></tr><tr><td>28</td><td>(Visual) FoxPro</td><td>0.55%</td></tr><tr><td>29</td><td>Transact-SQL</td><td>0.54%</td></tr><tr><td>30</td><td>Scala</td><td>0.49%</td></tr><tr><td>31</td><td>Julia</td><td>0.49%</td></tr><tr><td>32</td><td>Perl</td><td>0.49%</td></tr><tr><td>33</td><td>Dart</td><td>0.48%</td></tr><tr><td>34</td><td>Haskell</td><td>0.46%</td></tr><tr><td>35</td><td>Objective-C</td><td>0.36%</td></tr><tr><td>36</td><td>VBScript</td><td>0.33%</td></tr><tr><td>37</td><td>Bash</td><td>0.29%</td></tr><tr><td>38</td><td>ABAP</td><td>0.27%</td></tr><tr><td>39</td><td>Solidity</td><td>0.26%</td></tr><tr><td>40</td><td>GAMS</td><td>0.24%</td></tr><tr><td>41</td><td>PowerShell</td><td>0.22%</td></tr><tr><td>42</td><td>TypeScript</td><td>0.22%</td></tr><tr><td>43</td><td>PL/SQL</td><td>0.22%</td></tr><tr><td>44</td><td>Elixir</td><td>0.18%</td></tr><tr><td>45</td><td>D</td><td>0.16%</td></tr><tr><td>46</td><td>Logo</td><td>0.16%</td></tr><tr><td>47</td><td>RPG</td><td>0.15%</td></tr><tr><td>48</td><td>Awk</td><td>0.15%</td></tr><tr><td>49</td><td>ML</td><td>0.15%</td></tr><tr><td>50</td><td>X++</td><td>0.15%</td></tr>\n",
      "</tbody>\n",
      "</table>\n",
      "<table class=\"table table-striped\" id=\"VLTH\">\n",
      "<thead><tr><th>Programming Language</th><th>2025</th><th>2020</th><th>2015</th><th>2010</th><th>2005</th><th>2000</th><th>1995</th><th>1990</th><th>1985</th></tr></thead>\n",
      "<tr><td>Python</td><td>1</td><td>3</td><td>7</td><td>7</td><td>7</td><td>25</td><td>23</td><td>-</td><td>-</td></tr><tr><td>C++</td><td>2</td><td>4</td><td>4</td><td>3</td><td>3</td><td>2</td><td>1</td><td>2</td><td>13</td></tr><tr><td>C</td><td>3</td><td>2</td><td>1</td><td>2</td><td>1</td><td>1</td><td>2</td><td>1</td><td>1</td></tr><tr><td>Java</td><td>4</td><td>1</td><td>2</td><td>1</td><td>2</td><td>3</td><td>-</td><td>-</td><td>-</td></tr><tr><td>C#</td><td>5</td><td>5</td><td>5</td><td>6</td><td>9</td><td>9</td><td>-</td><td>-</td><td>-</td></tr><tr><td>JavaScript</td><td>6</td><td>7</td><td>8</td><td>9</td><td>10</td><td>7</td><td>-</td><td>-</td><td>-</td></tr><tr><td>Go</td><td>7</td><td>17</td><td>37</td><td>184</td><td>-</td><td>-</td><td>-</td><td>-</td><td>-</td></tr><tr><td>Visual Basic</td><td>8</td><td>19</td><td>234</td><td>-</td><td>-</td><td>-</td><td>-</td><td>-</td><td>-</td></tr><tr><td>SQL</td><td>9</td><td>9</td><td>-</td><td>-</td><td>100</td><td>-</td><td>-</td><td>-</td><td>-</td></tr><tr><td>Fortran</td><td>10</td><td>29</td><td>31</td><td>25</td><td>15</td><td>18</td><td>5</td><td>9</td><td>11</td></tr><tr><td>Ada</td><td>25</td><td>35</td><td>30</td><td>27</td><td>16</td><td>17</td><td>7</td><td>4</td><td>3</td></tr><tr><td>Lisp</td><td>29</td><td>31</td><td>18</td><td>17</td><td>13</td><td>16</td><td>6</td><td>3</td><td>2</td></tr><tr><td>Objective-C</td><td>35</td><td>10</td><td>3</td><td>24</td><td>40</td><td>-</td><td>-</td><td>-</td><td>-</td></tr><tr><td>(Visual) Basic</td><td>-</td><td>-</td><td>54</td><td>5</td><td>4</td><td>4</td><td>3</td><td>5</td><td>4</td></tr>\n",
      "</table>\n",
      "<table class=\"table table-striped\" id=\"PLHoF\"><colgroup><col align=\"center\"/><col align=\"center\"/><tr><th align=\"center\" nowrap=\"\">Year</th><th align=\"center\" nowrap=\"\">Winner</th><tr><td>2023</td><td><img alt=\"medal\" src=\"/wp-content/themes/tiobe/tpci/images/medal.png\"/> C#</td></tr><tr><td>2022</td><td><img alt=\"medal\" src=\"/wp-content/themes/tiobe/tpci/images/medal.png\"/> C++</td></tr><tr><td>2021</td><td><img alt=\"medal\" src=\"/wp-content/themes/tiobe/tpci/images/medal.png\"/> Python</td></tr><tr><td>2020</td><td><img alt=\"medal\" src=\"/wp-content/themes/tiobe/tpci/images/medal.png\"/> Python</td></tr><tr><td>2019</td><td><img alt=\"medal\" src=\"/wp-content/themes/tiobe/tpci/images/medal.png\"/> C</td></tr><tr><td>2018</td><td><img alt=\"medal\" src=\"/wp-content/themes/tiobe/tpci/images/medal.png\"/> Python</td></tr><tr><td>2017</td><td><img alt=\"medal\" src=\"/wp-content/themes/tiobe/tpci/images/medal.png\"/> C</td></tr><tr><td>2016</td><td><img alt=\"medal\" src=\"/wp-content/themes/tiobe/tpci/images/medal.png\"/> Go</td></tr><tr><td>2015</td><td><img alt=\"medal\" src=\"/wp-content/themes/tiobe/tpci/images/medal.png\"/> Java</td></tr><tr><td>2014</td><td><img alt=\"medal\" src=\"/wp-content/themes/tiobe/tpci/images/medal.png\"/> JavaScript</td></tr><tr><td>2013</td><td><img alt=\"medal\" src=\"/wp-content/themes/tiobe/tpci/images/medal.png\"/> Transact-SQL</td></tr><tr><td>2012</td><td><img alt=\"medal\" src=\"/wp-content/themes/tiobe/tpci/images/medal.png\"/> Objective-C</td></tr><tr><td>2011</td><td><img alt=\"medal\" src=\"/wp-content/themes/tiobe/tpci/images/medal.png\"/> Objective-C</td></tr><tr><td>2010</td><td><img alt=\"medal\" src=\"/wp-content/themes/tiobe/tpci/images/medal.png\"/> Python</td></tr><tr><td>2009</td><td><img alt=\"medal\" src=\"/wp-content/themes/tiobe/tpci/images/medal.png\"/> Go</td></tr><tr><td>2008</td><td><img alt=\"medal\" src=\"/wp-content/themes/tiobe/tpci/images/medal.png\"/> C</td></tr><tr><td>2007</td><td><img alt=\"medal\" src=\"/wp-content/themes/tiobe/tpci/images/medal.png\"/> Python</td></tr><tr><td>2006</td><td><img alt=\"medal\" src=\"/wp-content/themes/tiobe/tpci/images/medal.png\"/> Ruby</td></tr><tr><td>2005</td><td><img alt=\"medal\" src=\"/wp-content/themes/tiobe/tpci/images/medal.png\"/> Java</td></tr><tr><td>2004</td><td><img alt=\"medal\" src=\"/wp-content/themes/tiobe/tpci/images/medal.png\"/> PHP</td></tr><tr><td>2003</td><td><img alt=\"medal\" src=\"/wp-content/themes/tiobe/tpci/images/medal.png\"/> C++</td></tr></tr></colgroup></table>\n"
     ]
    }
   ],
   "source": [
    "# Find the tables in the website\n",
    "tables = soup.find_all('table')\n",
    "\n",
    "# Print the tables\n",
    "for table in tables:\n",
    "    print(table)"
   ]
  },
  {
   "cell_type": "code",
   "execution_count": 7,
   "metadata": {},
   "outputs": [
    {
     "name": "stdout",
     "output_type": "stream",
     "text": [
      "<table class=\"table table-striped table-top20\" id=\"top20\">\n",
      "<thead><tr>\n",
      "<th style=\"width: 15%\">Jan 2025</th>\n",
      "<th style=\"width: 15%\">Jan 2024</th>\n",
      "<th style=\"width: 15%\" title=\"Difference compared to last year\">Change</th>\n",
      "<th colspan=\"2\" style=\"width: 25%\">Programming Language</th>\n",
      "<th style=\"width: 15%\">Ratings</th>\n",
      "<th style=\"width: 15%\" title=\"Difference compared to last year\">Change</th>\n",
      "</tr></thead>\n",
      "<tbody>\n",
      "<tr><td>1</td><td>1</td><td></td><td class=\"td-top20\"><img alt=\"Python page\" src=\"/wp-content/themes/tiobe/tiobe-index/images/Python.png\" style=\"vertical-align:middle\"/></td><td>Python</td><td>23.28%</td><td>+9.32%</td></tr><tr><td>2</td><td>3</td><td><img alt=\"change\" src=\"/wp-content/themes/tiobe/tpci/images/up.png\"/></td><td class=\"td-top20\"><img alt=\"C++ page\" src=\"/wp-content/themes/tiobe/tiobe-index/images/C__.png\" style=\"vertical-align:middle\"/></td><td>C++</td><td>10.29%</td><td>+0.33%</td></tr><tr><td>3</td><td>4</td><td><img alt=\"change\" src=\"/wp-content/themes/tiobe/tpci/images/up.png\"/></td><td class=\"td-top20\"><img alt=\"Java page\" src=\"/wp-content/themes/tiobe/tiobe-index/images/Java.png\" style=\"vertical-align:middle\"/></td><td>Java</td><td>10.15%</td><td>+2.28%</td></tr><tr><td>4</td><td>2</td><td><img alt=\"change\" src=\"/wp-content/themes/tiobe/tpci/images/down.png\"/></td><td class=\"td-top20\"><img alt=\"C page\" src=\"/wp-content/themes/tiobe/tiobe-index/images/C.png\" style=\"vertical-align:middle\"/></td><td>C</td><td>8.86%</td><td>-2.59%</td></tr><tr><td>5</td><td>5</td><td></td><td class=\"td-top20\"><img alt=\"C# page\" src=\"/wp-content/themes/tiobe/tiobe-index/images/C_.png\" style=\"vertical-align:middle\"/></td><td>C#</td><td>4.45%</td><td>-2.71%</td></tr><tr><td>6</td><td>6</td><td></td><td class=\"td-top20\"><img alt=\"JavaScript page\" src=\"/wp-content/themes/tiobe/tiobe-index/images/JavaScript.png\" style=\"vertical-align:middle\"/></td><td>JavaScript</td><td>4.20%</td><td>+1.43%</td></tr><tr><td>7</td><td>11</td><td><img alt=\"change\" src=\"/wp-content/themes/tiobe/tpci/images/upup.png\"/></td><td class=\"td-top20\"><img alt=\"Go page\" src=\"/wp-content/themes/tiobe/tiobe-index/images/Go.png\" style=\"vertical-align:middle\"/></td><td>Go</td><td>2.61%</td><td>+1.24%</td></tr><tr><td>8</td><td>9</td><td><img alt=\"change\" src=\"/wp-content/themes/tiobe/tpci/images/up.png\"/></td><td class=\"td-top20\"><img alt=\"SQL page\" src=\"/wp-content/themes/tiobe/tiobe-index/images/SQL.png\" style=\"vertical-align:middle\"/></td><td>SQL</td><td>2.41%</td><td>+0.95%</td></tr><tr><td>9</td><td>8</td><td><img alt=\"change\" src=\"/wp-content/themes/tiobe/tpci/images/down.png\"/></td><td class=\"td-top20\"><img alt=\"Visual Basic page\" src=\"/wp-content/themes/tiobe/tiobe-index/images/Visual_Basic.png\" style=\"vertical-align:middle\"/></td><td>Visual Basic</td><td>2.37%</td><td>+0.77%</td></tr><tr><td>10</td><td>12</td><td><img alt=\"change\" src=\"/wp-content/themes/tiobe/tpci/images/up.png\"/></td><td class=\"td-top20\"><img alt=\"Fortran page\" src=\"/wp-content/themes/tiobe/tiobe-index/images/Fortran.png\" style=\"vertical-align:middle\"/></td><td>Fortran</td><td>2.04%</td><td>+0.94%</td></tr><tr><td>11</td><td>13</td><td><img alt=\"change\" src=\"/wp-content/themes/tiobe/tpci/images/up.png\"/></td><td class=\"td-top20\"><img alt=\"Delphi/Object Pascal page\" src=\"/wp-content/themes/tiobe/tiobe-index/images/Delphi_Object_Pascal.png\" style=\"vertical-align:middle\"/></td><td>Delphi/Object Pascal</td><td>1.79%</td><td>+0.70%</td></tr><tr><td>12</td><td>10</td><td><img alt=\"change\" src=\"/wp-content/themes/tiobe/tpci/images/down.png\"/></td><td class=\"td-top20\"><img alt=\"Scratch page\" src=\"/wp-content/themes/tiobe/tiobe-index/images/Scratch.png\" style=\"vertical-align:middle\"/></td><td>Scratch</td><td>1.55%</td><td>+0.11%</td></tr><tr><td>13</td><td>7</td><td><img alt=\"change\" src=\"/wp-content/themes/tiobe/tpci/images/downdown.png\"/></td><td class=\"td-top20\"><img alt=\"PHP page\" src=\"/wp-content/themes/tiobe/tiobe-index/images/PHP.png\" style=\"vertical-align:middle\"/></td><td>PHP</td><td>1.38%</td><td>-0.41%</td></tr><tr><td>14</td><td>19</td><td><img alt=\"change\" src=\"/wp-content/themes/tiobe/tpci/images/upup.png\"/></td><td class=\"td-top20\"><img alt=\"Rust page\" src=\"/wp-content/themes/tiobe/tiobe-index/images/Rust.png\" style=\"vertical-align:middle\"/></td><td>Rust</td><td>1.16%</td><td>+0.37%</td></tr><tr><td>15</td><td>14</td><td><img alt=\"change\" src=\"/wp-content/themes/tiobe/tpci/images/down.png\"/></td><td class=\"td-top20\"><img alt=\"MATLAB page\" src=\"/wp-content/themes/tiobe/tiobe-index/images/MATLAB.png\" style=\"vertical-align:middle\"/></td><td>MATLAB</td><td>1.07%</td><td>+0.09%</td></tr><tr><td>16</td><td>18</td><td><img alt=\"change\" src=\"/wp-content/themes/tiobe/tpci/images/up.png\"/></td><td class=\"td-top20\"><img alt=\"Ruby page\" src=\"/wp-content/themes/tiobe/tiobe-index/images/Ruby.png\" style=\"vertical-align:middle\"/></td><td>Ruby</td><td>1.06%</td><td>+0.25%</td></tr><tr><td>17</td><td>15</td><td><img alt=\"change\" src=\"/wp-content/themes/tiobe/tpci/images/down.png\"/></td><td class=\"td-top20\"><img alt=\"Assembly language page\" src=\"/wp-content/themes/tiobe/tiobe-index/images/Assembly_language.png\" style=\"vertical-align:middle\"/></td><td>Assembly language</td><td>1.01%</td><td>+0.10%</td></tr><tr><td>18</td><td>23</td><td><img alt=\"change\" src=\"/wp-content/themes/tiobe/tpci/images/upup.png\"/></td><td class=\"td-top20\"><img alt=\"R page\" src=\"/wp-content/themes/tiobe/tiobe-index/images/R.png\" style=\"vertical-align:middle\"/></td><td>R</td><td>1.00%</td><td>+0.27%</td></tr><tr><td>19</td><td>16</td><td><img alt=\"change\" src=\"/wp-content/themes/tiobe/tpci/images/down.png\"/></td><td class=\"td-top20\"><img alt=\"Swift page\" src=\"/wp-content/themes/tiobe/tiobe-index/images/Swift.png\" style=\"vertical-align:middle\"/></td><td>Swift</td><td>0.99%</td><td>+0.10%</td></tr><tr><td>20</td><td>20</td><td></td><td class=\"td-top20\"><img alt=\"COBOL page\" src=\"/wp-content/themes/tiobe/tiobe-index/images/COBOL.png\" style=\"vertical-align:middle\"/></td><td>COBOL</td><td>0.95%</td><td>+0.17%</td></tr>\n",
      "</tbody>\n",
      "</table>\n"
     ]
    }
   ],
   "source": [
    "# Find the first table in the website\n",
    "table = soup.find('table')\n",
    "\n",
    "# Print the table\n",
    "print(table)"
   ]
  },
  {
   "cell_type": "code",
   "execution_count": 9,
   "metadata": {},
   "outputs": [
    {
     "name": "stdout",
     "output_type": "stream",
     "text": [
      "<table class=\"table table-striped table-top20\" id=\"top20\">\n",
      "<thead><tr>\n",
      "<th style=\"width: 15%\">Jan 2025</th>\n",
      "<th style=\"width: 15%\">Jan 2024</th>\n",
      "<th style=\"width: 15%\" title=\"Difference compared to last year\">Change</th>\n",
      "<th colspan=\"2\" style=\"width: 25%\">Programming Language</th>\n",
      "<th style=\"width: 15%\">Ratings</th>\n",
      "<th style=\"width: 15%\" title=\"Difference compared to last year\">Change</th>\n",
      "</tr></thead>\n",
      "<tbody>\n",
      "<tr><td>1</td><td>1</td><td></td><td class=\"td-top20\"><img alt=\"Python page\" src=\"/wp-content/themes/tiobe/tiobe-index/images/Python.png\" style=\"vertical-align:middle\"/></td><td>Python</td><td>23.28%</td><td>+9.32%</td></tr><tr><td>2</td><td>3</td><td><img alt=\"change\" src=\"/wp-content/themes/tiobe/tpci/images/up.png\"/></td><td class=\"td-top20\"><img alt=\"C++ page\" src=\"/wp-content/themes/tiobe/tiobe-index/images/C__.png\" style=\"vertical-align:middle\"/></td><td>C++</td><td>10.29%</td><td>+0.33%</td></tr><tr><td>3</td><td>4</td><td><img alt=\"change\" src=\"/wp-content/themes/tiobe/tpci/images/up.png\"/></td><td class=\"td-top20\"><img alt=\"Java page\" src=\"/wp-content/themes/tiobe/tiobe-index/images/Java.png\" style=\"vertical-align:middle\"/></td><td>Java</td><td>10.15%</td><td>+2.28%</td></tr><tr><td>4</td><td>2</td><td><img alt=\"change\" src=\"/wp-content/themes/tiobe/tpci/images/down.png\"/></td><td class=\"td-top20\"><img alt=\"C page\" src=\"/wp-content/themes/tiobe/tiobe-index/images/C.png\" style=\"vertical-align:middle\"/></td><td>C</td><td>8.86%</td><td>-2.59%</td></tr><tr><td>5</td><td>5</td><td></td><td class=\"td-top20\"><img alt=\"C# page\" src=\"/wp-content/themes/tiobe/tiobe-index/images/C_.png\" style=\"vertical-align:middle\"/></td><td>C#</td><td>4.45%</td><td>-2.71%</td></tr><tr><td>6</td><td>6</td><td></td><td class=\"td-top20\"><img alt=\"JavaScript page\" src=\"/wp-content/themes/tiobe/tiobe-index/images/JavaScript.png\" style=\"vertical-align:middle\"/></td><td>JavaScript</td><td>4.20%</td><td>+1.43%</td></tr><tr><td>7</td><td>11</td><td><img alt=\"change\" src=\"/wp-content/themes/tiobe/tpci/images/upup.png\"/></td><td class=\"td-top20\"><img alt=\"Go page\" src=\"/wp-content/themes/tiobe/tiobe-index/images/Go.png\" style=\"vertical-align:middle\"/></td><td>Go</td><td>2.61%</td><td>+1.24%</td></tr><tr><td>8</td><td>9</td><td><img alt=\"change\" src=\"/wp-content/themes/tiobe/tpci/images/up.png\"/></td><td class=\"td-top20\"><img alt=\"SQL page\" src=\"/wp-content/themes/tiobe/tiobe-index/images/SQL.png\" style=\"vertical-align:middle\"/></td><td>SQL</td><td>2.41%</td><td>+0.95%</td></tr><tr><td>9</td><td>8</td><td><img alt=\"change\" src=\"/wp-content/themes/tiobe/tpci/images/down.png\"/></td><td class=\"td-top20\"><img alt=\"Visual Basic page\" src=\"/wp-content/themes/tiobe/tiobe-index/images/Visual_Basic.png\" style=\"vertical-align:middle\"/></td><td>Visual Basic</td><td>2.37%</td><td>+0.77%</td></tr><tr><td>10</td><td>12</td><td><img alt=\"change\" src=\"/wp-content/themes/tiobe/tpci/images/up.png\"/></td><td class=\"td-top20\"><img alt=\"Fortran page\" src=\"/wp-content/themes/tiobe/tiobe-index/images/Fortran.png\" style=\"vertical-align:middle\"/></td><td>Fortran</td><td>2.04%</td><td>+0.94%</td></tr><tr><td>11</td><td>13</td><td><img alt=\"change\" src=\"/wp-content/themes/tiobe/tpci/images/up.png\"/></td><td class=\"td-top20\"><img alt=\"Delphi/Object Pascal page\" src=\"/wp-content/themes/tiobe/tiobe-index/images/Delphi_Object_Pascal.png\" style=\"vertical-align:middle\"/></td><td>Delphi/Object Pascal</td><td>1.79%</td><td>+0.70%</td></tr><tr><td>12</td><td>10</td><td><img alt=\"change\" src=\"/wp-content/themes/tiobe/tpci/images/down.png\"/></td><td class=\"td-top20\"><img alt=\"Scratch page\" src=\"/wp-content/themes/tiobe/tiobe-index/images/Scratch.png\" style=\"vertical-align:middle\"/></td><td>Scratch</td><td>1.55%</td><td>+0.11%</td></tr><tr><td>13</td><td>7</td><td><img alt=\"change\" src=\"/wp-content/themes/tiobe/tpci/images/downdown.png\"/></td><td class=\"td-top20\"><img alt=\"PHP page\" src=\"/wp-content/themes/tiobe/tiobe-index/images/PHP.png\" style=\"vertical-align:middle\"/></td><td>PHP</td><td>1.38%</td><td>-0.41%</td></tr><tr><td>14</td><td>19</td><td><img alt=\"change\" src=\"/wp-content/themes/tiobe/tpci/images/upup.png\"/></td><td class=\"td-top20\"><img alt=\"Rust page\" src=\"/wp-content/themes/tiobe/tiobe-index/images/Rust.png\" style=\"vertical-align:middle\"/></td><td>Rust</td><td>1.16%</td><td>+0.37%</td></tr><tr><td>15</td><td>14</td><td><img alt=\"change\" src=\"/wp-content/themes/tiobe/tpci/images/down.png\"/></td><td class=\"td-top20\"><img alt=\"MATLAB page\" src=\"/wp-content/themes/tiobe/tiobe-index/images/MATLAB.png\" style=\"vertical-align:middle\"/></td><td>MATLAB</td><td>1.07%</td><td>+0.09%</td></tr><tr><td>16</td><td>18</td><td><img alt=\"change\" src=\"/wp-content/themes/tiobe/tpci/images/up.png\"/></td><td class=\"td-top20\"><img alt=\"Ruby page\" src=\"/wp-content/themes/tiobe/tiobe-index/images/Ruby.png\" style=\"vertical-align:middle\"/></td><td>Ruby</td><td>1.06%</td><td>+0.25%</td></tr><tr><td>17</td><td>15</td><td><img alt=\"change\" src=\"/wp-content/themes/tiobe/tpci/images/down.png\"/></td><td class=\"td-top20\"><img alt=\"Assembly language page\" src=\"/wp-content/themes/tiobe/tiobe-index/images/Assembly_language.png\" style=\"vertical-align:middle\"/></td><td>Assembly language</td><td>1.01%</td><td>+0.10%</td></tr><tr><td>18</td><td>23</td><td><img alt=\"change\" src=\"/wp-content/themes/tiobe/tpci/images/upup.png\"/></td><td class=\"td-top20\"><img alt=\"R page\" src=\"/wp-content/themes/tiobe/tiobe-index/images/R.png\" style=\"vertical-align:middle\"/></td><td>R</td><td>1.00%</td><td>+0.27%</td></tr><tr><td>19</td><td>16</td><td><img alt=\"change\" src=\"/wp-content/themes/tiobe/tpci/images/down.png\"/></td><td class=\"td-top20\"><img alt=\"Swift page\" src=\"/wp-content/themes/tiobe/tiobe-index/images/Swift.png\" style=\"vertical-align:middle\"/></td><td>Swift</td><td>0.99%</td><td>+0.10%</td></tr><tr><td>20</td><td>20</td><td></td><td class=\"td-top20\"><img alt=\"COBOL page\" src=\"/wp-content/themes/tiobe/tiobe-index/images/COBOL.png\" style=\"vertical-align:middle\"/></td><td>COBOL</td><td>0.95%</td><td>+0.17%</td></tr>\n",
      "</tbody>\n",
      "</table>\n"
     ]
    }
   ],
   "source": [
    "# Find the table with the class table-top20 and id is top20\n",
    "table = soup.find('table', class_='table-top20', id='top20')\n",
    "\n",
    "# Print the table\n",
    "print(table)"
   ]
  },
  {
   "cell_type": "code",
   "execution_count": 10,
   "metadata": {},
   "outputs": [
    {
     "name": "stdout",
     "output_type": "stream",
     "text": [
      "Jan 2025\n",
      "Jan 2024\n",
      "Change\n",
      "Programming Language\n",
      "Ratings\n",
      "Change\n"
     ]
    }
   ],
   "source": [
    "# Print the table columns\n",
    "table_columns = table.find_all('th')\n",
    "for column in table_columns:\n",
    "    print(column.text)"
   ]
  },
  {
   "cell_type": "code",
   "execution_count": 18,
   "metadata": {},
   "outputs": [
    {
     "name": "stdout",
     "output_type": "stream",
     "text": [
      "<tr><td>1</td><td>1</td><td></td><td class=\"td-top20\"><img alt=\"Python page\" src=\"/wp-content/themes/tiobe/tiobe-index/images/Python.png\" style=\"vertical-align:middle\"/></td><td>Python</td><td>23.28%</td><td>+9.32%</td></tr>\n",
      "<tr><td>2</td><td>3</td><td><img alt=\"change\" src=\"/wp-content/themes/tiobe/tpci/images/up.png\"/></td><td class=\"td-top20\"><img alt=\"C++ page\" src=\"/wp-content/themes/tiobe/tiobe-index/images/C__.png\" style=\"vertical-align:middle\"/></td><td>C++</td><td>10.29%</td><td>+0.33%</td></tr>\n",
      "<tr><td>3</td><td>4</td><td><img alt=\"change\" src=\"/wp-content/themes/tiobe/tpci/images/up.png\"/></td><td class=\"td-top20\"><img alt=\"Java page\" src=\"/wp-content/themes/tiobe/tiobe-index/images/Java.png\" style=\"vertical-align:middle\"/></td><td>Java</td><td>10.15%</td><td>+2.28%</td></tr>\n",
      "<tr><td>4</td><td>2</td><td><img alt=\"change\" src=\"/wp-content/themes/tiobe/tpci/images/down.png\"/></td><td class=\"td-top20\"><img alt=\"C page\" src=\"/wp-content/themes/tiobe/tiobe-index/images/C.png\" style=\"vertical-align:middle\"/></td><td>C</td><td>8.86%</td><td>-2.59%</td></tr>\n",
      "<tr><td>5</td><td>5</td><td></td><td class=\"td-top20\"><img alt=\"C# page\" src=\"/wp-content/themes/tiobe/tiobe-index/images/C_.png\" style=\"vertical-align:middle\"/></td><td>C#</td><td>4.45%</td><td>-2.71%</td></tr>\n",
      "<tr><td>6</td><td>6</td><td></td><td class=\"td-top20\"><img alt=\"JavaScript page\" src=\"/wp-content/themes/tiobe/tiobe-index/images/JavaScript.png\" style=\"vertical-align:middle\"/></td><td>JavaScript</td><td>4.20%</td><td>+1.43%</td></tr>\n",
      "<tr><td>7</td><td>11</td><td><img alt=\"change\" src=\"/wp-content/themes/tiobe/tpci/images/upup.png\"/></td><td class=\"td-top20\"><img alt=\"Go page\" src=\"/wp-content/themes/tiobe/tiobe-index/images/Go.png\" style=\"vertical-align:middle\"/></td><td>Go</td><td>2.61%</td><td>+1.24%</td></tr>\n",
      "<tr><td>8</td><td>9</td><td><img alt=\"change\" src=\"/wp-content/themes/tiobe/tpci/images/up.png\"/></td><td class=\"td-top20\"><img alt=\"SQL page\" src=\"/wp-content/themes/tiobe/tiobe-index/images/SQL.png\" style=\"vertical-align:middle\"/></td><td>SQL</td><td>2.41%</td><td>+0.95%</td></tr>\n",
      "<tr><td>9</td><td>8</td><td><img alt=\"change\" src=\"/wp-content/themes/tiobe/tpci/images/down.png\"/></td><td class=\"td-top20\"><img alt=\"Visual Basic page\" src=\"/wp-content/themes/tiobe/tiobe-index/images/Visual_Basic.png\" style=\"vertical-align:middle\"/></td><td>Visual Basic</td><td>2.37%</td><td>+0.77%</td></tr>\n",
      "<tr><td>10</td><td>12</td><td><img alt=\"change\" src=\"/wp-content/themes/tiobe/tpci/images/up.png\"/></td><td class=\"td-top20\"><img alt=\"Fortran page\" src=\"/wp-content/themes/tiobe/tiobe-index/images/Fortran.png\" style=\"vertical-align:middle\"/></td><td>Fortran</td><td>2.04%</td><td>+0.94%</td></tr>\n",
      "<tr><td>11</td><td>13</td><td><img alt=\"change\" src=\"/wp-content/themes/tiobe/tpci/images/up.png\"/></td><td class=\"td-top20\"><img alt=\"Delphi/Object Pascal page\" src=\"/wp-content/themes/tiobe/tiobe-index/images/Delphi_Object_Pascal.png\" style=\"vertical-align:middle\"/></td><td>Delphi/Object Pascal</td><td>1.79%</td><td>+0.70%</td></tr>\n",
      "<tr><td>12</td><td>10</td><td><img alt=\"change\" src=\"/wp-content/themes/tiobe/tpci/images/down.png\"/></td><td class=\"td-top20\"><img alt=\"Scratch page\" src=\"/wp-content/themes/tiobe/tiobe-index/images/Scratch.png\" style=\"vertical-align:middle\"/></td><td>Scratch</td><td>1.55%</td><td>+0.11%</td></tr>\n",
      "<tr><td>13</td><td>7</td><td><img alt=\"change\" src=\"/wp-content/themes/tiobe/tpci/images/downdown.png\"/></td><td class=\"td-top20\"><img alt=\"PHP page\" src=\"/wp-content/themes/tiobe/tiobe-index/images/PHP.png\" style=\"vertical-align:middle\"/></td><td>PHP</td><td>1.38%</td><td>-0.41%</td></tr>\n",
      "<tr><td>14</td><td>19</td><td><img alt=\"change\" src=\"/wp-content/themes/tiobe/tpci/images/upup.png\"/></td><td class=\"td-top20\"><img alt=\"Rust page\" src=\"/wp-content/themes/tiobe/tiobe-index/images/Rust.png\" style=\"vertical-align:middle\"/></td><td>Rust</td><td>1.16%</td><td>+0.37%</td></tr>\n",
      "<tr><td>15</td><td>14</td><td><img alt=\"change\" src=\"/wp-content/themes/tiobe/tpci/images/down.png\"/></td><td class=\"td-top20\"><img alt=\"MATLAB page\" src=\"/wp-content/themes/tiobe/tiobe-index/images/MATLAB.png\" style=\"vertical-align:middle\"/></td><td>MATLAB</td><td>1.07%</td><td>+0.09%</td></tr>\n",
      "<tr><td>16</td><td>18</td><td><img alt=\"change\" src=\"/wp-content/themes/tiobe/tpci/images/up.png\"/></td><td class=\"td-top20\"><img alt=\"Ruby page\" src=\"/wp-content/themes/tiobe/tiobe-index/images/Ruby.png\" style=\"vertical-align:middle\"/></td><td>Ruby</td><td>1.06%</td><td>+0.25%</td></tr>\n",
      "<tr><td>17</td><td>15</td><td><img alt=\"change\" src=\"/wp-content/themes/tiobe/tpci/images/down.png\"/></td><td class=\"td-top20\"><img alt=\"Assembly language page\" src=\"/wp-content/themes/tiobe/tiobe-index/images/Assembly_language.png\" style=\"vertical-align:middle\"/></td><td>Assembly language</td><td>1.01%</td><td>+0.10%</td></tr>\n",
      "<tr><td>18</td><td>23</td><td><img alt=\"change\" src=\"/wp-content/themes/tiobe/tpci/images/upup.png\"/></td><td class=\"td-top20\"><img alt=\"R page\" src=\"/wp-content/themes/tiobe/tiobe-index/images/R.png\" style=\"vertical-align:middle\"/></td><td>R</td><td>1.00%</td><td>+0.27%</td></tr>\n",
      "<tr><td>19</td><td>16</td><td><img alt=\"change\" src=\"/wp-content/themes/tiobe/tpci/images/down.png\"/></td><td class=\"td-top20\"><img alt=\"Swift page\" src=\"/wp-content/themes/tiobe/tiobe-index/images/Swift.png\" style=\"vertical-align:middle\"/></td><td>Swift</td><td>0.99%</td><td>+0.10%</td></tr>\n",
      "<tr><td>20</td><td>20</td><td></td><td class=\"td-top20\"><img alt=\"COBOL page\" src=\"/wp-content/themes/tiobe/tiobe-index/images/COBOL.png\" style=\"vertical-align:middle\"/></td><td>COBOL</td><td>0.95%</td><td>+0.17%</td></tr>\n"
     ]
    }
   ],
   "source": [
    "# Print the table rows\n",
    "# Navigate the DOM tree to find the table rows\n",
    "table_body = table.find('tbody')\n",
    "table_rows = table_body.find_all('tr')\n",
    "\n",
    "# Print the table rows\n",
    "for row in table_rows:\n",
    "    print(row)"
   ]
  },
  {
   "cell_type": "code",
   "execution_count": 19,
   "metadata": {},
   "outputs": [
    {
     "name": "stdout",
     "output_type": "stream",
     "text": [
      "<tr><td>1</td><td>1</td><td></td><td class=\"td-top20\"><img alt=\"Python page\" src=\"/wp-content/themes/tiobe/tiobe-index/images/Python.png\" style=\"vertical-align:middle\"/></td><td>Python</td><td>23.28%</td><td>+9.32%</td></tr>\n"
     ]
    }
   ],
   "source": [
    "# Print the table data\n",
    "first_row = table_rows[0]\n",
    "print(first_row)"
   ]
  },
  {
   "cell_type": "code",
   "execution_count": 20,
   "metadata": {},
   "outputs": [
    {
     "name": "stdout",
     "output_type": "stream",
     "text": [
      "<tr><td>2</td><td>3</td><td><img alt=\"change\" src=\"/wp-content/themes/tiobe/tpci/images/up.png\"/></td><td class=\"td-top20\"><img alt=\"C++ page\" src=\"/wp-content/themes/tiobe/tiobe-index/images/C__.png\" style=\"vertical-align:middle\"/></td><td>C++</td><td>10.29%</td><td>+0.33%</td></tr>\n"
     ]
    }
   ],
   "source": [
    "# Navigate the DOM tree to find the table data\n",
    "second_row = first_row.find_next('tr')\n",
    "print(second_row)"
   ]
  },
  {
   "cell_type": "code",
   "execution_count": 22,
   "metadata": {},
   "outputs": [
    {
     "name": "stdout",
     "output_type": "stream",
     "text": [
      "<tr><td>3</td><td>4</td><td><img alt=\"change\" src=\"/wp-content/themes/tiobe/tpci/images/up.png\"/></td><td class=\"td-top20\"><img alt=\"Java page\" src=\"/wp-content/themes/tiobe/tiobe-index/images/Java.png\" style=\"vertical-align:middle\"/></td><td>Java</td><td>10.15%</td><td>+2.28%</td></tr>\n"
     ]
    }
   ],
   "source": [
    "# Navigate the next using next_sibling\n",
    "third_row = second_row.find_next_sibling('tr')\n",
    "print(third_row)"
   ]
  },
  {
   "cell_type": "code",
   "execution_count": 25,
   "metadata": {},
   "outputs": [
    {
     "name": "stdout",
     "output_type": "stream",
     "text": [
      "1\n",
      "1\n",
      "1\n",
      "1\n",
      "\n",
      "\n",
      "[<img alt=\"Python page\" src=\"/wp-content/themes/tiobe/tiobe-index/images/Python.png\" style=\"vertical-align:middle\"/>]\n",
      "\n",
      "Python\n",
      "Python\n",
      "23.28%\n",
      "23.28%\n",
      "+9.32%\n",
      "+9.32%\n"
     ]
    }
   ],
   "source": [
    "# Find first row data\n",
    "first_row_data = first_row.find_all('td')\n",
    "for data in first_row_data:\n",
    "    # If the data has children, print the children\n",
    "    if data.findChildren():\n",
    "        print(data.findChildren())\n",
    "    else:\n",
    "        print(data.text)\n",
    "    print(data.text)"
   ]
  },
  {
   "cell_type": "code",
   "execution_count": 34,
   "metadata": {},
   "outputs": [
    {
     "name": "stdout",
     "output_type": "stream",
     "text": [
      "Top 20 Programming Languages\n",
      "1. Python\n",
      "2. C++\n",
      "3. Java\n",
      "4. C\n",
      "5. C#\n",
      "6. JavaScript\n",
      "7. Go\n",
      "8. SQL\n",
      "9. Visual Basic\n",
      "10. Fortran\n",
      "11. Delphi/Object Pascal\n",
      "12. Scratch\n",
      "13. PHP\n",
      "14. Rust\n",
      "15. MATLAB\n",
      "16. Ruby\n",
      "17. Assembly language\n",
      "18. R\n",
      "19. Swift\n",
      "20. COBOL\n"
     ]
    }
   ],
   "source": [
    "# List of the top 20 programming languages\n",
    "top_20_languages = []\n",
    "\n",
    "# Loop through the table rows\n",
    "for row in table_rows:\n",
    "    # Find the table data\n",
    "    row_data = row.find_all('td')\n",
    "    # Extract the data from the table data\n",
    "    language = row_data[4].text\n",
    "    top_20_languages.append(language)\n",
    "\n",
    "# Print the top 20 programming languages\n",
    "print(\"Top 20 Programming Languages\")\n",
    "for rank, language in enumerate(top_20_languages, start=1):\n",
    "    print(f\"{rank}. {language}\")"
   ]
  }
 ],
 "metadata": {
  "kernelspec": {
   "display_name": "base",
   "language": "python",
   "name": "python3"
  },
  "language_info": {
   "codemirror_mode": {
    "name": "ipython",
    "version": 3
   },
   "file_extension": ".py",
   "mimetype": "text/x-python",
   "name": "python",
   "nbconvert_exporter": "python",
   "pygments_lexer": "ipython3",
   "version": "3.12.7"
  }
 },
 "nbformat": 4,
 "nbformat_minor": 2
}
