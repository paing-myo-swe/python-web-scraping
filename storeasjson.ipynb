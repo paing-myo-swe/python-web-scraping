{
 "cells": [
  {
   "cell_type": "markdown",
   "metadata": {},
   "source": [
    "# Store scraped data to JSON file\n",
    "\n",
    "Store the scraped data to json file."
   ]
  },
  {
   "cell_type": "markdown",
   "metadata": {},
   "source": [
    "## Scrap data from the web"
   ]
  },
  {
   "cell_type": "code",
   "execution_count": 1,
   "metadata": {},
   "outputs": [],
   "source": [
    "import requests\n",
    "from bs4 import BeautifulSoup\n",
    "import json\n",
    "\n",
    "def get_data():\n",
    "    url = 'https://www.tiobe.com/tiobe-index/'\n",
    "    response = requests.get(url)\n",
    "    soup = BeautifulSoup(response.text, 'html.parser')\n",
    "    table = soup.find('table', {'class': 'table table-striped table-top20'})\n",
    "    languages = []\n",
    "    for row in table.find_all('tr')[1:]:\n",
    "        languages.append({\n",
    "            'rank': row.find_all('td')[0].text.strip(),\n",
    "            'language': row.find_all('td')[4].text.strip(),\n",
    "            'ratings': row.find_all('td')[5].text.strip(),\n",
    "        })\n",
    "    return languages"
   ]
  },
  {
   "cell_type": "markdown",
   "metadata": {},
   "source": [
    "## Save to JSON"
   ]
  },
  {
   "cell_type": "code",
   "execution_count": 2,
   "metadata": {},
   "outputs": [],
   "source": [
    "def save_to_json(data, filename):\n",
    "    with open(filename, 'w') as f:\n",
    "        json.dump(data, f, indent=4)\n"
   ]
  },
  {
   "cell_type": "code",
   "execution_count": 3,
   "metadata": {},
   "outputs": [
    {
     "name": "stdout",
     "output_type": "stream",
     "text": [
      "[{'rank': '1', 'language': 'Python', 'ratings': '23.28%'}, {'rank': '2', 'language': 'C++', 'ratings': '10.29%'}, {'rank': '3', 'language': 'Java', 'ratings': '10.15%'}, {'rank': '4', 'language': 'C', 'ratings': '8.86%'}, {'rank': '5', 'language': 'C#', 'ratings': '4.45%'}, {'rank': '6', 'language': 'JavaScript', 'ratings': '4.20%'}, {'rank': '7', 'language': 'Go', 'ratings': '2.61%'}, {'rank': '8', 'language': 'SQL', 'ratings': '2.41%'}, {'rank': '9', 'language': 'Visual Basic', 'ratings': '2.37%'}, {'rank': '10', 'language': 'Fortran', 'ratings': '2.04%'}, {'rank': '11', 'language': 'Delphi/Object Pascal', 'ratings': '1.79%'}, {'rank': '12', 'language': 'Scratch', 'ratings': '1.55%'}, {'rank': '13', 'language': 'PHP', 'ratings': '1.38%'}, {'rank': '14', 'language': 'Rust', 'ratings': '1.16%'}, {'rank': '15', 'language': 'MATLAB', 'ratings': '1.07%'}, {'rank': '16', 'language': 'Ruby', 'ratings': '1.06%'}, {'rank': '17', 'language': 'Assembly language', 'ratings': '1.01%'}, {'rank': '18', 'language': 'R', 'ratings': '1.00%'}, {'rank': '19', 'language': 'Swift', 'ratings': '0.99%'}, {'rank': '20', 'language': 'COBOL', 'ratings': '0.95%'}]\n"
     ]
    }
   ],
   "source": [
    "top_languages = get_data()\n",
    "print(top_languages)\n",
    "save_to_json(top_languages, 'top_languages.json')"
   ]
  }
 ],
 "metadata": {
  "kernelspec": {
   "display_name": "base",
   "language": "python",
   "name": "python3"
  },
  "language_info": {
   "codemirror_mode": {
    "name": "ipython",
    "version": 3
   },
   "file_extension": ".py",
   "mimetype": "text/x-python",
   "name": "python",
   "nbconvert_exporter": "python",
   "pygments_lexer": "ipython3",
   "version": "3.12.7"
  }
 },
 "nbformat": 4,
 "nbformat_minor": 2
}
